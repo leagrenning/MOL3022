{
 "cells": [
  {
   "cell_type": "code",
   "execution_count": 2,
   "id": "be6201b7-34ec-4c47-a59b-42852e7b2bb3",
   "metadata": {},
   "outputs": [],
   "source": [
    "import torch\n",
    "from torch import nn\n",
    "from torch import optim\n",
    "\n",
    "import tqdm\n",
    "import numpy as np\n",
    "import pandas as pd"
   ]
  },
  {
   "cell_type": "code",
   "execution_count": 3,
   "id": "34c80687-26c9-4405-b62d-3bbad82ab01e",
   "metadata": {},
   "outputs": [],
   "source": [
    "device = \"cuda\" if torch.cuda.is_available() else \"cpu\""
   ]
  },
  {
   "cell_type": "code",
   "execution_count": null,
   "id": "490b21be-9f80-44e8-a1e5-a5f40d981a42",
   "metadata": {},
   "outputs": [],
   "source": [
    "df = pd."
   ]
  },
  {
   "cell_type": "code",
   "execution_count": 9,
   "id": "722a4d4f-e876-48c1-8c2a-4ea8f69e9471",
   "metadata": {},
   "outputs": [
    {
     "name": "stdout",
     "output_type": "stream",
     "text": [
      ">100d_A mol:na length:10  DNA/RNA (5'-R(*CP*)-D(*CP*GP*GP*CP*GP*CP*CP*GP*)-R(*G)-3')\n",
      " CCGGCGCCGG\n",
      " >100d_B mol:na length:10  DNA/RNA (5'-R(*CP*)-D(*CP*GP*GP*CP*GP*CP*CP*GP*)-R(*G)-3')\n",
      "\n"
     ]
    }
   ],
   "source": [
    "with open(\"pdb_seqres.txt\") as r:\n",
    "    lines = r.readlines()\n",
    "    print(lines[0], lines[1], lines[2])"
   ]
  },
  {
   "cell_type": "code",
   "execution_count": null,
   "id": "28d03d13-f9b9-490f-b2d9-32d38c133ab4",
   "metadata": {},
   "outputs": [],
   "source": []
  }
 ],
 "metadata": {
  "kernelspec": {
   "display_name": "Python 3 (ipykernel)",
   "language": "python",
   "name": "python3"
  },
  "language_info": {
   "codemirror_mode": {
    "name": "ipython",
    "version": 3
   },
   "file_extension": ".py",
   "mimetype": "text/x-python",
   "name": "python",
   "nbconvert_exporter": "python",
   "pygments_lexer": "ipython3",
   "version": "3.10.4"
  }
 },
 "nbformat": 4,
 "nbformat_minor": 5
}
