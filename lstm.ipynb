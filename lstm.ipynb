{
 "cells": [
  {
   "cell_type": "code",
   "execution_count": 1,
   "id": "0a90eabc",
   "metadata": {},
   "outputs": [],
   "source": [
    "import numpy as np\n",
    "import pandas as pd\n",
    "\n",
    "import torch\n",
    "from torch import nn\n",
    "\n",
    "from keras.preprocessing import text, sequence\n",
    "from keras.preprocessing.text import Tokenizer\n",
    "from keras.utils import to_categorical, pad_sequences\n",
    "\n",
    "from sklearn.model_selection import train_test_split\n",
    "\n",
    "import matplotlib.pyplot as plt\n",
    "\n",
    "from tqdm.notebook import tqdm"
   ]
  },
  {
   "cell_type": "code",
   "execution_count": 2,
   "id": "c13be662",
   "metadata": {},
   "outputs": [],
   "source": [
    "RANDOM_SEED = 42\n",
    "device = \"cuda\" if torch.cuda.is_available() else \"cpu\""
   ]
  },
  {
   "cell_type": "code",
   "execution_count": 3,
   "id": "209d14bc",
   "metadata": {},
   "outputs": [
    {
     "data": {
      "text/plain": [
       "<AxesSubplot: >"
      ]
     },
     "execution_count": 3,
     "metadata": {},
     "output_type": "execute_result"
    },
    {
     "data": {
      "image/png": "[encoded data removed]",
      "text/plain": [
       "<Figure size 640x480 with 1 Axes>"
      ]
     },
     "metadata": {},
     "output_type": "display_data"
    }
   ],
   "source": [
    "df = pd.read_csv(\"archive/2018-06-06-ss.cleaned.csv\")\n",
    "\n",
    "df = df[df[\"seq\"].str.contains(\"[*]\") == False]\n",
    "maxlen_seq = 128\n",
    "\n",
    "df = df.loc[df[\"seq\"].str.len() < maxlen_seq]\n",
    "\n",
    "df.len.hist(bins=100)"
   ]
  },
  {
   "cell_type": "code",
   "execution_count": 4,
   "id": "247fe35a",
   "metadata": {},
   "outputs": [],
   "source": [
    "def n_grams(seqs, n=3):    \n",
    "    return np.array([[seq[i:i+n] for i in range(len(seq))] for seq in seqs], object)\n",
    "    #return [[sequence[i:i+n] for i in range(len(sequence))] for sequence in sequences]\n",
    "    #n_grams = ngrams(nltk.word_tokenize(data), num)\n",
    "    #return list(ngrams([char for char in seq], n=n) for seq in seqs)"
   ]
  },
  {
   "cell_type": "code",
   "execution_count": 5,
   "id": "ac725347",
   "metadata": {},
   "outputs": [],
   "source": [
    "input_seqs, target_seqs = df[['seq', 'sst3']][(df.len <= maxlen_seq) & (~df.has_nonstd_aa)].values.T"
   ]
  },
  {
   "cell_type": "code",
   "execution_count": 6,
   "id": "23f6a28c",
   "metadata": {},
   "outputs": [
    {
     "name": "stdout",
     "output_type": "stream",
     "text": [
      "EDL CEC\n"
     ]
    },
    {
     "data": {
      "text/plain": [
       "0"
      ]
     },
     "execution_count": 6,
     "metadata": {},
     "output_type": "execute_result"
    }
   ],
   "source": [
    "print(input_seqs[0], target_seqs[0])\n",
    "\n",
    "\n",
    "\n",
    "len(input_seqs)%3"
   ]
  },
  {
   "cell_type": "code",
   "execution_count": 7,
   "id": "d140e94a",
   "metadata": {},
   "outputs": [],
   "source": [
    "x = n_grams(input_seqs)"
   ]
  },
  {
   "cell_type": "code",
   "execution_count": 8,
   "id": "a5f51ed2",
   "metadata": {},
   "outputs": [
    {
     "data": {
      "text/plain": [
       "(87213,)"
      ]
     },
     "execution_count": 8,
     "metadata": {},
     "output_type": "execute_result"
    }
   ],
   "source": [
    "np.array(x).shape\n"
   ]
  },
  {
   "cell_type": "code",
   "execution_count": 9,
   "id": "1b352ba3",
   "metadata": {},
   "outputs": [
    {
     "data": {
      "text/plain": [
       "((87213, 128), (87213, 128, 4))"
      ]
     },
     "execution_count": 9,
     "metadata": {},
     "output_type": "execute_result"
    }
   ],
   "source": [
    "tokenizer_encoder = Tokenizer()\n",
    "tokenizer_encoder.fit_on_texts(x)\n",
    "input_data = tokenizer_encoder.texts_to_sequences(x)\n",
    "input_data = pad_sequences(input_data, maxlen=maxlen_seq, padding='post')\n",
    "\n",
    "tokenizer_decoder = Tokenizer(char_level=True)\n",
    "tokenizer_decoder.fit_on_texts(target_seqs)\n",
    "target_data = tokenizer_decoder.texts_to_sequences(target_seqs)\n",
    "target_data = pad_sequences(target_data, maxlen=maxlen_seq, padding='post')\n",
    "target_data = to_categorical(target_data)\n",
    "input_data.shape, target_data.shape"
   ]
  },
  {
   "cell_type": "code",
   "execution_count": 10,
   "id": "8cec719d",
   "metadata": {},
   "outputs": [
    {
     "data": {
      "text/plain": [
       "{1: 'c', 2: 'h', 3: 'e'}"
      ]
     },
     "execution_count": 10,
     "metadata": {},
     "output_type": "execute_result"
    }
   ],
   "source": [
    "reverse_decoder_index = {value: key for key, value in tokenizer_decoder.word_index.items()}\n",
    "reverse_decoder_index"
   ]
  },
  {
   "cell_type": "code",
   "execution_count": 11,
   "id": "7dc69911",
   "metadata": {},
   "outputs": [
    {
     "name": "stdout",
     "output_type": "stream",
     "text": [
      "8421 4\n"
     ]
    }
   ],
   "source": [
    "n_words = len(tokenizer_encoder.word_index) + 1\n",
    "n_tags = len(tokenizer_decoder.word_index) + 1\n",
    "print(n_words, n_tags)"
   ]
  },
  {
   "cell_type": "code",
   "execution_count": 12,
   "id": "e6a6439e",
   "metadata": {},
   "outputs": [],
   "source": [
    "class LSTM(nn.Module):\n",
    "    def __init__(self, n_words, maxlen_seq, n_tags, hidden_size=64, dropout=0.1):\n",
    "        super(LSTM, self).__init__()\n",
    "        self.embedding = nn.Embedding(n_words, 128, padding_idx=0)\n",
    "        self.bilstm = nn.LSTM(input_size=128, hidden_size=hidden_size, num_layers=1, \n",
    "                              batch_first=True, bidirectional=True, dropout=dropout)\n",
    "        self.dense = nn.Linear(hidden_size*2, n_tags)\n",
    "        \n",
    "    def forward(self, x):\n",
    "        return self.dense(self.bilstm(self.embedding(x))[0])"
   ]
  },
  {
   "cell_type": "code",
   "execution_count": 13,
   "id": "6f11adb8",
   "metadata": {},
   "outputs": [
    {
     "name": "stderr",
     "output_type": "stream",
     "text": [
      "C:\\Users\\Leagr\\miniconda3\\envs\\mol3022\\lib\\site-packages\\torch\\nn\\modules\\rnn.py:67: UserWarning: dropout option adds dropout after all but last recurrent layer, so non-zero dropout expects num_layers greater than 1, but got dropout=0.1 and num_layers=1\n",
      "  warnings.warn(\"dropout option adds dropout after all but last \"\n"
     ]
    }
   ],
   "source": [
    "model = LSTM(n_words, maxlen_seq, n_tags)"
   ]
  },
  {
   "cell_type": "code",
   "execution_count": 14,
   "id": "4a081306",
   "metadata": {},
   "outputs": [],
   "source": [
    "def q3_acc(y_true, y_pred):\n",
    "    y = torch.argmax(y_true, dim=-1)\n",
    "    y_ = torch.argmax(y_pred, dim=-1)\n",
    "    mask = (y > 0)\n",
    "    return torch.mean((y[mask] == y_[mask]).float())"
   ]
  },
  {
   "cell_type": "code",
   "execution_count": 15,
   "id": "f345b092",
   "metadata": {},
   "outputs": [],
   "source": [
    "optimizer = torch.optim.RMSprop(params=model.parameters())\n",
    "loss_fn = nn.CrossEntropyLoss()"
   ]
  },
  {
   "cell_type": "code",
   "execution_count": 16,
   "id": "7907fda5",
   "metadata": {},
   "outputs": [],
   "source": [
    "X_train, X_test, y_train, y_test = train_test_split(input_data, target_data, test_size=.4, random_state=0)"
   ]
  },
  {
   "cell_type": "code",
   "execution_count": 17,
   "id": "f7b3bb21",
   "metadata": {},
   "outputs": [],
   "source": [
    "seq_train, seq_test, target_train, target_test = train_test_split(input_seqs, target_seqs, test_size=.4, random_state=0)"
   ]
  },
  {
   "cell_type": "code",
   "execution_count": 18,
   "id": "04a8e767",
   "metadata": {},
   "outputs": [
    {
     "data": {
      "application/vnd.jupyter.widget-view+json": {
       "model_id": "8d5aedb40500400a891e8ca690e7b4ae",
       "version_major": 2,
       "version_minor": 0
      },
      "text/plain": [
       "  0%|          | 0/409 [00:00<?, ?it/s]"
      ]
     },
     "metadata": {},
     "output_type": "display_data"
    },
    {
     "name": "stdout",
     "output_type": "stream",
     "text": [
      "Epoch: 1 | Train loss: 0.3257 | Val loss: 0.2566 | Val acc: 0.8431\n"
     ]
    },
    {
     "data": {
      "application/vnd.jupyter.widget-view+json": {
       "model_id": "3af14e474ff74a38a59b548b247d4a2a",
       "version_major": 2,
       "version_minor": 0
      },
      "text/plain": [
       "  0%|          | 0/409 [00:00<?, ?it/s]"
      ]
     },
     "metadata": {},
     "output_type": "display_data"
    },
    {
     "name": "stdout",
     "output_type": "stream",
     "text": [
      "Epoch: 2 | Train loss: 0.2125 | Val loss: 0.2313 | Val acc: 0.8622\n"
     ]
    },
    {
     "data": {
      "application/vnd.jupyter.widget-view+json": {
       "model_id": "c84871a265d846be9b14c15e17176dec",
       "version_major": 2,
       "version_minor": 0
      },
      "text/plain": [
       "  0%|          | 0/409 [00:00<?, ?it/s]"
      ]
     },
     "metadata": {},
     "output_type": "display_data"
    },
    {
     "name": "stdout",
     "output_type": "stream",
     "text": [
      "Epoch: 3 | Train loss: 0.1830 | Val loss: 0.2188 | Val acc: 0.8722\n"
     ]
    },
    {
     "data": {
      "application/vnd.jupyter.widget-view+json": {
       "model_id": "5adf4032a717434e80af7e9bfb23e805",
       "version_major": 2,
       "version_minor": 0
      },
      "text/plain": [
       "  0%|          | 0/409 [00:00<?, ?it/s]"
      ]
     },
     "metadata": {},
     "output_type": "display_data"
    },
    {
     "name": "stdout",
     "output_type": "stream",
     "text": [
      "Epoch: 4 | Train loss: 0.1681 | Val loss: 0.2039 | Val acc: 0.8808\n"
     ]
    },
    {
     "data": {
      "application/vnd.jupyter.widget-view+json": {
       "model_id": "392711b2f00a465988148ce065f7cbaa",
       "version_major": 2,
       "version_minor": 0
      },
      "text/plain": [
       "  0%|          | 0/409 [00:00<?, ?it/s]"
      ]
     },
     "metadata": {},
     "output_type": "display_data"
    },
    {
     "name": "stdout",
     "output_type": "stream",
     "text": [
      "Epoch: 5 | Train loss: 0.1633 | Val loss: 0.2028 | Val acc: 0.8838\n"
     ]
    }
   ],
   "source": [
    "for epoch in range(5):\n",
    "    running_loss = 0.0\n",
    "    model.train()\n",
    "    for i in tqdm(range(0, len(X_train), 128)):\n",
    "        inputs = torch.tensor(X_train[i:i+128]).to(device)\n",
    "        targets = torch.tensor(y_train[i:i+128]).to(device)\n",
    "\n",
    "        optimizer.zero_grad()\n",
    "        outputs = model(inputs)\n",
    "        \n",
    "        loss = loss_fn(outputs.view(-1, n_tags), targets.view(-1, n_tags))\n",
    "        loss.backward()\n",
    "        optimizer.step()\n",
    "\n",
    "        running_loss += loss.item()\n",
    "\n",
    "    # Evaluate the model on the validation data\n",
    "    model.eval()\n",
    "    with torch.no_grad():\n",
    "        y_pred = model(torch.tensor(X_test).to(device))\n",
    "        val_loss = loss_fn(y_pred.view(-1, n_tags), torch.tensor(y_test).view(-1, n_tags)).item()\n",
    "        val_acc = q3_acc(torch.tensor(y_test).to(device), y_pred)\n",
    "\n",
    "    print('Epoch: %d | Train loss: %.4f | Val loss: %.4f | Val acc: %.4f' %\n",
    "          (epoch+1, running_loss / (len(X_train) // 128), val_loss, val_acc))"
   ]
  },
  {
   "cell_type": "code",
   "execution_count": 19,
   "id": "d900e2fe",
   "metadata": {},
   "outputs": [],
   "source": [
    "#model.load_state_dict(torch.load('model_1.torch', map_location=torch.device('cpu')))"
   ]
  },
  {
   "cell_type": "code",
   "execution_count": 20,
   "id": "69560cad",
   "metadata": {},
   "outputs": [
    {
     "name": "stdout",
     "output_type": "stream",
     "text": [
      "training\n",
      "---\n",
      "Input: TQEAFDLISKENPSSQYWKEVAEQRRKALYEALKENEKLHKEIEQKDSEIARLRKENKDLAEVAEHVQYMAEVIERLSN\n",
      "Target: CCCCCCCCCCCCCCCCHHHHHHHHHHHHHHHHHHHHHHHHHHHHHHHHHHHHHHHHHHCCHHHHHHHHHHHHHHHCCCC\n",
      "Result: CCCHHHHHHCCCCCHHHHHHHHHHHHHHHHHHHHHHHHHHHHHHHHHHHHHHHHHHHHHHHHHHHHHHHHHHHHHHHCC\n"
     ]
    },
    {
     "data": {
      "image/png": "[encoded data removed]",
      "text/plain": [
       "<Figure size 1000x200 with 1 Axes>"
      ]
     },
     "metadata": {},
     "output_type": "display_data"
    },
    {
     "name": "stdout",
     "output_type": "stream",
     "text": [
      "---\n",
      "Input: GGTIAKVTGPSTGAVGRNIEFSGKDSKDEDGKIVSYDWDFGDGATSRGKNSVHAYKKAGTYNVTLKVTDDKGATATESFTIEIKN\n",
      "Target: CCCECCCEEECEEECCCEEEEECCCCECCCCCEEEEEEECCCCCEEECCEEEEECCCCEEEEEEEEEEECCCCEEEEEEEEEEEC\n",
      "Result: CCCECCCEEECEEEEECEEEEEECCCCCCCCCEEEEEEECCCCCEEECCEEEEECCCCEEEEEEEEEEECCCCEEEEEEEEEEEC\n"
     ]
    },
    {
     "data": {
      "image/png": "[encoded data removed]",
      "text/plain": [
       "<Figure size 1000x200 with 1 Axes>"
      ]
     },
     "metadata": {},
     "output_type": "display_data"
    },
    {
     "name": "stdout",
     "output_type": "stream",
     "text": [
      "---\n",
      "Input: MIQRTPKIQVYSRHPAENGKSNFLNCYVSGFHPSDIEVDLLKNGERIEKVEHSDLSFSKDWSFYLLYYTEFTPTEKDEYACRVNHVTLSQPKIVKWDRDM\n",
      "Target: CCCECCEEEEEECCCCCCCCCEEEEEEEEEEECCCCEEEEEECCEECCCCEECCCEECCCCCEEEEEEEEECCCCCCCEEEEEECCCCCCCEEEECCCCC\n",
      "Result: CCCECCEEEEEECCCCCCCCCEEEEEEEEEEECCCCEEEEEECCEECCCCEECCCEECCCCCEEEEEEEEECCCCCCCEEEEEECCCCCCCEEEECCCCC\n"
     ]
    },
    {
     "data": {
      "image/png": "[encoded data removed]",
      "text/plain": [
       "<Figure size 1000x200 with 1 Axes>"
      ]
     },
     "metadata": {},
     "output_type": "display_data"
    },
    {
     "name": "stdout",
     "output_type": "stream",
     "text": [
      "testing\n",
      "---\n",
      "Input: MEFQKKKQKVIQVKEIKFRPGTDEGDYQVKLRSLIRFLEEGDKAKITLRFRGREMAHQQIGMEVLNRVKDDLQELAVVESFPTKIEGRQMIMVLAPKKKQ\n",
      "Target: CCCCCCCCCCCEEEEEEECCCCCHHHHCHHHHHHHHHHHCCEEEEEEECCCCCCCCCCCHHHHHHHHHHHHHCCCEEECCCCCCCCCCCCEEEEEECCCC\n",
      "Result: CCCCCCCCEEEEEEEEEECCCCCCCCEHEEECCEEEEEECCCCEEEEEEECHHHHHHHHCHHHHHHHHHHHHHHCCCCCCCCCCCCEECECEEECCCCCC\n"
     ]
    },
    {
     "data": {
      "image/png": "[encoded data removed]",
      "text/plain": [
       "<Figure size 1000x200 with 1 Axes>"
      ]
     },
     "metadata": {},
     "output_type": "display_data"
    },
    {
     "name": "stdout",
     "output_type": "stream",
     "text": [
      "---\n",
      "Input: STNPPPPETSNPNKPKRQTNQLQYLLRVVLKTLWKHQFAWPFQQPVDAVKLNLPDYYKIIKTPMDMGTIKKRLENNYYWNAQECIQDFNTMFTNCYIYNKPGDDIVLMAEALEKLFLQKINELPTE\n",
      "Target: CCCCCCCCCCCCCCCCCCCHHHHHHHHCHHHHHHCCCCCHHHCCCCCCCCCCCCCHHHHCCCCCCHHHHHHHHHCCCCCCHHHHHHHHHHHHHHHHHHCCCCCHHHHHHHHHHHHHHHHHCCCCCC\n",
      "Result: CCCCCCCCCCCCCCCCCCCHHHHHHHHCHHHHHHCCCCCHHHCCCCCCCCCCCCCHHHHCCCCCCHHHHHHHHHCCCCCCHHHHHHHHHHHHHHHHHHCCCCCHHHHHHHHHHHHHHHHHCCCCCC\n"
     ]
    },
    {
     "data": {
      "image/png": "[encoded data removed]",
      "text/plain": [
       "<Figure size 1000x200 with 1 Axes>"
      ]
     },
     "metadata": {},
     "output_type": "display_data"
    },
    {
     "name": "stdout",
     "output_type": "stream",
     "text": [
      "---\n",
      "Input: SMSVKKPKRDDSKDLALCSMILTEMETHEDAWPFLLPVNLKLVPGYKKVIKKPMDFSTIREKLSSGQYPNLETFALDVRLVFDNCETFNEDDSDIGRAGHNMRKYFEKKWTDTFK\n",
      "Target: CCCCCCCCCCCCCHHHHHHHHHHHHHHCHHHHHHCCCCCCCCCCCHHHHCCCCCCHHHHHHHHHCCCCCCHHHHHHHHHHHHHHHHHHCCCCCHHHHHHHHHHHHHHHHHHHHHC\n",
      "Result: CCCCCCCCCCCCCHHHHHHHHHHHHHHCHHHHHHCCCCCCCCCCCHHHHCCCCCCHHHHHHHHHCCCCCCHHHHHHHHHHHHHHHHHHCCCCCHHHHHHHHHHHHHHHHHHHHHC\n"
     ]
    },
    {
     "data": {
      "image/png": "[encoded data removed]",
      "text/plain": [
       "<Figure size 1000x200 with 1 Axes>"
      ]
     },
     "metadata": {},
     "output_type": "display_data"
    }
   ],
   "source": [
    "def onehot_to_seq(oh_seq, index):\n",
    "    s = ''\n",
    "    for o in oh_seq:\n",
    "        i = np.argmax(o)\n",
    "        if i != 0:\n",
    "            s += index[i]\n",
    "        else:\n",
    "            break\n",
    "    return s\n",
    "\n",
    "def plot_results(x, y, y_):\n",
    "    print(\"---\")\n",
    "    print(\"Input: \" + str(x))\n",
    "    print(\"Target: \" + str(onehot_to_seq(y, revsere_decoder_index).upper()))\n",
    "    print(\"Result: \" + str(onehot_to_seq(y_, revsere_decoder_index).upper()))\n",
    "    fig = plt.figure(figsize=(10,2))\n",
    "    plt.imshow(y.T, cmap='Blues')\n",
    "    plt.imshow(y_.T, cmap='Reds', alpha=.5)\n",
    "    plt.yticks(range(4), [' '] + [revsere_decoder_index[i+1].upper() for i in range(3)])\n",
    "    plt.show()\n",
    "    \n",
    "revsere_decoder_index = {value:key for key,value in tokenizer_decoder.word_index.items()}\n",
    "revsere_encoder_index = {value:key for key,value in tokenizer_encoder.word_index.items()}\n",
    "\n",
    "N=3\n",
    "y_train_pred = model(torch.tensor(X_train[:N])).detach().numpy()\n",
    "y_test_pred = model(torch.tensor(X_test[:N])).detach().numpy()\n",
    "print('training')\n",
    "for i in range(N):\n",
    "    plot_results(seq_train[i], y_train[i], y_train_pred[i])\n",
    "print('testing')\n",
    "for i in range(N):\n",
    "    plot_results(seq_test[i], y_test[i], y_test_pred[i])"
   ]
  },
  {
   "cell_type": "code",
   "execution_count": 21,
   "id": "7c9a821b",
   "metadata": {},
   "outputs": [],
   "source": [
    "torch.save(model.state_dict(), \"model_1.torch\")"
   ]
  }
 ],
 "metadata": {
  "kernelspec": {
   "display_name": "Python 3 (ipykernel)",
   "language": "python",
   "name": "python3"
  },
  "language_info": {
   "codemirror_mode": {
    "name": "ipython",
    "version": 3
   },
   "file_extension": ".py",
   "mimetype": "text/x-python",
   "name": "python",
   "nbconvert_exporter": "python",
   "pygments_lexer": "ipython3",
   "version": "3.9.16"
  }
 },
 "nbformat": 4,
 "nbformat_minor": 5
}
