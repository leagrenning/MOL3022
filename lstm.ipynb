{
 "cells": [
  {
   "cell_type": "code",
   "execution_count": 1,
   "id": "0a90eabc",
   "metadata": {},
   "outputs": [
    {
     "name": "stderr",
     "output_type": "stream",
     "text": [
      "2023-03-06 15:34:23.703830: I tensorflow/core/platform/cpu_feature_guard.cc:193] This TensorFlow binary is optimized with oneAPI Deep Neural Network Library (oneDNN) to use the following CPU instructions in performance-critical operations:  AVX2 AVX512F AVX512_VNNI FMA\n",
      "To enable them in other operations, rebuild TensorFlow with the appropriate compiler flags.\n"
     ]
    }
   ],
   "source": [
    "import numpy as np\n",
    "import pandas as pd\n",
    "\n",
    "import torch\n",
    "from torch import nn\n",
    "\n",
    "from keras.preprocessing import text, sequence\n",
    "from keras.preprocessing.text import Tokenizer\n",
    "from keras.utils import to_categorical, pad_sequences\n",
    "\n",
    "from sklearn.model_selection import train_test_split\n",
    "\n",
    "import matplotlib.pyplot as plt\n",
    "\n",
    "from tqdm.notebook import tqdm"
   ]
  },
  {
   "cell_type": "code",
   "execution_count": 2,
   "id": "c13be662",
   "metadata": {},
   "outputs": [],
   "source": [
    "RANDOM_SEED = 42\n",
    "device = \"cuda\" if torch.cuda.is_available() else \"cpu\""
   ]
  },
  {
   "cell_type": "code",
   "execution_count": 3,
   "id": "209d14bc",
   "metadata": {},
   "outputs": [
    {
     "data": {
      "text/plain": [
       "<Axes: >"
      ]
     },
     "execution_count": 3,
     "metadata": {},
     "output_type": "execute_result"
    },
    {
     "data": {
      "image/png": "[encoded data removed]",
      "text/plain": [
       "<Figure size 640x480 with 1 Axes>"
      ]
     },
     "metadata": {},
     "output_type": "display_data"
    }
   ],
   "source": [
    "df = pd.read_csv(\"archive/2018-06-06-ss.cleaned.csv\")\n",
    "\n",
    "df = df[df[\"seq\"].str.contains(\"[*]\") == False]\n",
    "maxlen_seq = 128\n",
    "\n",
    "df = df.loc[df[\"seq\"].str.len() < maxlen_seq]\n",
    "\n",
    "df.len.hist(bins=100)"
   ]
  },
  {
   "cell_type": "code",
   "execution_count": 4,
   "id": "247fe35a",
   "metadata": {},
   "outputs": [],
   "source": [
    "def n_grams(seqs, n=3):    \n",
    "    return np.array([[seq[i:i+n] for i in range(len(seq))] for seq in seqs], object)\n",
    "    #return [[sequence[i:i+n] for i in range(len(sequence))] for sequence in sequences]\n",
    "    #n_grams = ngrams(nltk.word_tokenize(data), num)\n",
    "    #return list(ngrams([char for char in seq], n=n) for seq in seqs)"
   ]
  },
  {
   "cell_type": "code",
   "execution_count": 5,
   "id": "ac725347",
   "metadata": {},
   "outputs": [],
   "source": [
    "input_seqs, target_seqs = df[['seq', 'sst3']][(df.len <= maxlen_seq) & (~df.has_nonstd_aa)].values.T"
   ]
  },
  {
   "cell_type": "code",
   "execution_count": 6,
   "id": "23f6a28c",
   "metadata": {},
   "outputs": [
    {
     "name": "stdout",
     "output_type": "stream",
     "text": [
      "EDL CEC\n"
     ]
    },
    {
     "data": {
      "text/plain": [
       "0"
      ]
     },
     "execution_count": 6,
     "metadata": {},
     "output_type": "execute_result"
    }
   ],
   "source": [
    "print(input_seqs[0], target_seqs[0])\n",
    "\n",
    "\n",
    "\n",
    "len(input_seqs)%3"
   ]
  },
  {
   "cell_type": "code",
   "execution_count": 7,
   "id": "d140e94a",
   "metadata": {},
   "outputs": [],
   "source": [
    "x = n_grams(input_seqs)"
   ]
  },
  {
   "cell_type": "code",
   "execution_count": 8,
   "id": "a5f51ed2",
   "metadata": {},
   "outputs": [
    {
     "data": {
      "text/plain": [
       "(87213,)"
      ]
     },
     "execution_count": 8,
     "metadata": {},
     "output_type": "execute_result"
    }
   ],
   "source": [
    "np.array(x).shape\n"
   ]
  },
  {
   "cell_type": "code",
   "execution_count": 9,
   "id": "1b352ba3",
   "metadata": {},
   "outputs": [
    {
     "data": {
      "text/plain": [
       "((87213, 128), (87213, 128, 4))"
      ]
     },
     "execution_count": 9,
     "metadata": {},
     "output_type": "execute_result"
    }
   ],
   "source": [
    "tokenizer_encoder = Tokenizer()\n",
    "tokenizer_encoder.fit_on_texts(x)\n",
    "input_data = tokenizer_encoder.texts_to_sequences(x)\n",
    "input_data = pad_sequences(input_data, maxlen=maxlen_seq, padding='post')\n",
    "\n",
    "tokenizer_decoder = Tokenizer(char_level=True)\n",
    "tokenizer_decoder.fit_on_texts(target_seqs)\n",
    "target_data = tokenizer_decoder.texts_to_sequences(target_seqs)\n",
    "target_data = pad_sequences(target_data, maxlen=maxlen_seq, padding='post')\n",
    "target_data = to_categorical(target_data)\n",
    "input_data.shape, target_data.shape"
   ]
  },
  {
   "cell_type": "code",
   "execution_count": 10,
   "id": "8cec719d",
   "metadata": {},
   "outputs": [
    {
     "data": {
      "text/plain": [
       "{1: 'c', 2: 'h', 3: 'e'}"
      ]
     },
     "execution_count": 10,
     "metadata": {},
     "output_type": "execute_result"
    }
   ],
   "source": [
    "reverse_decoder_index = {value: key for key, value in tokenizer_decoder.word_index.items()}\n",
    "reverse_decoder_index"
   ]
  },
  {
   "cell_type": "code",
   "execution_count": 11,
   "id": "7dc69911",
   "metadata": {},
   "outputs": [
    {
     "name": "stdout",
     "output_type": "stream",
     "text": [
      "8421 4\n"
     ]
    }
   ],
   "source": [
    "n_words = len(tokenizer_encoder.word_index) + 1\n",
    "n_tags = len(tokenizer_decoder.word_index) + 1\n",
    "print(n_words, n_tags)"
   ]
  },
  {
   "cell_type": "code",
   "execution_count": 12,
   "id": "e6a6439e",
   "metadata": {},
   "outputs": [],
   "source": [
    "class LSTM(nn.Module):\n",
    "    def __init__(self, n_words, maxlen_seq, n_tags, hidden_size=64, dropout=0.1):\n",
    "        super(LSTM, self).__init__()\n",
    "        self.embedding = nn.Embedding(n_words, 128, padding_idx=0)\n",
    "        self.bilstm = nn.LSTM(input_size=128, hidden_size=hidden_size, num_layers=1, \n",
    "                              batch_first=True, bidirectional=True, dropout=dropout)\n",
    "        self.dense = nn.Linear(hidden_size*2, n_tags)\n",
    "        \n",
    "    def forward(self, x):\n",
    "        return self.dense(self.bilstm(self.embedding(x))[0])"
   ]
  },
  {
   "cell_type": "code",
   "execution_count": 13,
   "id": "6f11adb8",
   "metadata": {},
   "outputs": [
    {
     "name": "stderr",
     "output_type": "stream",
     "text": [
      "/Users/nicolaimolstad/opt/miniconda3/envs/mol3022/lib/python3.9/site-packages/torch/nn/modules/rnn.py:67: UserWarning: dropout option adds dropout after all but last recurrent layer, so non-zero dropout expects num_layers greater than 1, but got dropout=0.1 and num_layers=1\n",
      "  warnings.warn(\"dropout option adds dropout after all but last \"\n"
     ]
    }
   ],
   "source": [
    "model = LSTM(n_words, maxlen_seq, n_tags)"
   ]
  },
  {
   "cell_type": "code",
   "execution_count": 14,
   "id": "4a081306",
   "metadata": {},
   "outputs": [],
   "source": [
    "def q3_acc(y_true, y_pred):\n",
    "    y = torch.argmax(y_true, dim=-1)\n",
    "    y_ = torch.argmax(y_pred, dim=-1)\n",
    "    mask = (y > 0)\n",
    "    return torch.mean((y[mask] == y_[mask]).float())"
   ]
  },
  {
   "cell_type": "code",
   "execution_count": 15,
   "id": "f345b092",
   "metadata": {},
   "outputs": [],
   "source": [
    "optimizer = torch.optim.RMSprop(params=model.parameters())\n",
    "loss_fn = nn.CrossEntropyLoss()"
   ]
  },
  {
   "cell_type": "code",
   "execution_count": 16,
   "id": "7907fda5",
   "metadata": {},
   "outputs": [],
   "source": [
    "X_train, X_test, y_train, y_test = train_test_split(input_data, target_data, test_size=.4, random_state=0)"
   ]
  },
  {
   "cell_type": "code",
   "execution_count": 17,
   "id": "f7b3bb21",
   "metadata": {},
   "outputs": [],
   "source": [
    "seq_train, seq_test, target_train, target_test = train_test_split(input_seqs, target_seqs, test_size=.4, random_state=0)"
   ]
  },
  {
   "cell_type": "code",
   "execution_count": 32,
   "id": "04a8e767",
   "metadata": {},
   "outputs": [
    {
     "data": {
      "application/vnd.jupyter.widget-view+json": {
       "model_id": "393dc89cd59a4ee5ad96280d63433490",
       "version_major": 2,
       "version_minor": 0
      },
      "text/plain": [
       "  0%|          | 0/409 [00:00<?, ?it/s]"
      ]
     },
     "metadata": {},
     "output_type": "display_data"
    },
    {
     "name": "stdout",
     "output_type": "stream",
     "text": [
      "torch.Size([128, 128])\n",
      "torch.Size([16384, 4]) torch.Size([128, 128, 4])\n",
      "torch.Size([16384, 4]) torch.Size([128, 128, 4])\n"
     ]
    },
    {
     "ename": "KeyboardInterrupt",
     "evalue": "",
     "output_type": "error",
     "traceback": [
      "\u001b[0;31m---------------------------------------------------------------------------\u001b[0m",
      "\u001b[0;31mKeyboardInterrupt\u001b[0m                         Traceback (most recent call last)",
      "Cell \u001b[0;32mIn[32], line 24\u001b[0m\n\u001b[1;32m     22\u001b[0m model\u001b[38;5;241m.\u001b[39meval()\n\u001b[1;32m     23\u001b[0m \u001b[38;5;28;01mwith\u001b[39;00m torch\u001b[38;5;241m.\u001b[39mno_grad():\n\u001b[0;32m---> 24\u001b[0m     y_pred \u001b[38;5;241m=\u001b[39m \u001b[43mmodel\u001b[49m\u001b[43m(\u001b[49m\u001b[43mtorch\u001b[49m\u001b[38;5;241;43m.\u001b[39;49m\u001b[43mtensor\u001b[49m\u001b[43m(\u001b[49m\u001b[43mX_test\u001b[49m\u001b[43m)\u001b[49m\u001b[38;5;241;43m.\u001b[39;49m\u001b[43mto\u001b[49m\u001b[43m(\u001b[49m\u001b[43mdevice\u001b[49m\u001b[43m)\u001b[49m\u001b[43m)\u001b[49m\n\u001b[1;32m     25\u001b[0m     val_loss \u001b[38;5;241m=\u001b[39m loss_fn(y_pred\u001b[38;5;241m.\u001b[39mview(\u001b[38;5;241m-\u001b[39m\u001b[38;5;241m1\u001b[39m, n_tags), torch\u001b[38;5;241m.\u001b[39mtensor(y_test)\u001b[38;5;241m.\u001b[39mview(\u001b[38;5;241m-\u001b[39m\u001b[38;5;241m1\u001b[39m, n_tags))\u001b[38;5;241m.\u001b[39mitem()\n\u001b[1;32m     26\u001b[0m     val_acc \u001b[38;5;241m=\u001b[39m q3_acc(torch\u001b[38;5;241m.\u001b[39mtensor(y_test)\u001b[38;5;241m.\u001b[39mto(device), y_pred)\n",
      "File \u001b[0;32m~/opt/miniconda3/envs/it3030/envs/mol3022/lib/python3.9/site-packages/torch/nn/modules/module.py:1194\u001b[0m, in \u001b[0;36mModule._call_impl\u001b[0;34m(self, *input, **kwargs)\u001b[0m\n\u001b[1;32m   1190\u001b[0m \u001b[38;5;66;03m# If we don't have any hooks, we want to skip the rest of the logic in\u001b[39;00m\n\u001b[1;32m   1191\u001b[0m \u001b[38;5;66;03m# this function, and just call forward.\u001b[39;00m\n\u001b[1;32m   1192\u001b[0m \u001b[38;5;28;01mif\u001b[39;00m \u001b[38;5;129;01mnot\u001b[39;00m (\u001b[38;5;28mself\u001b[39m\u001b[38;5;241m.\u001b[39m_backward_hooks \u001b[38;5;129;01mor\u001b[39;00m \u001b[38;5;28mself\u001b[39m\u001b[38;5;241m.\u001b[39m_forward_hooks \u001b[38;5;129;01mor\u001b[39;00m \u001b[38;5;28mself\u001b[39m\u001b[38;5;241m.\u001b[39m_forward_pre_hooks \u001b[38;5;129;01mor\u001b[39;00m _global_backward_hooks\n\u001b[1;32m   1193\u001b[0m         \u001b[38;5;129;01mor\u001b[39;00m _global_forward_hooks \u001b[38;5;129;01mor\u001b[39;00m _global_forward_pre_hooks):\n\u001b[0;32m-> 1194\u001b[0m     \u001b[38;5;28;01mreturn\u001b[39;00m \u001b[43mforward_call\u001b[49m\u001b[43m(\u001b[49m\u001b[38;5;241;43m*\u001b[39;49m\u001b[38;5;28;43minput\u001b[39;49m\u001b[43m,\u001b[49m\u001b[43m \u001b[49m\u001b[38;5;241;43m*\u001b[39;49m\u001b[38;5;241;43m*\u001b[39;49m\u001b[43mkwargs\u001b[49m\u001b[43m)\u001b[49m\n\u001b[1;32m   1195\u001b[0m \u001b[38;5;66;03m# Do not call functions when jit is used\u001b[39;00m\n\u001b[1;32m   1196\u001b[0m full_backward_hooks, non_full_backward_hooks \u001b[38;5;241m=\u001b[39m [], []\n",
      "Cell \u001b[0;32mIn[12], line 10\u001b[0m, in \u001b[0;36mLSTM.forward\u001b[0;34m(self, x)\u001b[0m\n\u001b[1;32m      9\u001b[0m \u001b[38;5;28;01mdef\u001b[39;00m \u001b[38;5;21mforward\u001b[39m(\u001b[38;5;28mself\u001b[39m, x):\n\u001b[0;32m---> 10\u001b[0m     \u001b[38;5;28;01mreturn\u001b[39;00m \u001b[38;5;28mself\u001b[39m\u001b[38;5;241m.\u001b[39mdense(\u001b[38;5;28;43mself\u001b[39;49m\u001b[38;5;241;43m.\u001b[39;49m\u001b[43mbilstm\u001b[49m\u001b[43m(\u001b[49m\u001b[38;5;28;43mself\u001b[39;49m\u001b[38;5;241;43m.\u001b[39;49m\u001b[43membedding\u001b[49m\u001b[43m(\u001b[49m\u001b[43mx\u001b[49m\u001b[43m)\u001b[49m\u001b[43m)\u001b[49m[\u001b[38;5;241m0\u001b[39m])\n",
      "File \u001b[0;32m~/opt/miniconda3/envs/it3030/envs/mol3022/lib/python3.9/site-packages/torch/nn/modules/module.py:1194\u001b[0m, in \u001b[0;36mModule._call_impl\u001b[0;34m(self, *input, **kwargs)\u001b[0m\n\u001b[1;32m   1190\u001b[0m \u001b[38;5;66;03m# If we don't have any hooks, we want to skip the rest of the logic in\u001b[39;00m\n\u001b[1;32m   1191\u001b[0m \u001b[38;5;66;03m# this function, and just call forward.\u001b[39;00m\n\u001b[1;32m   1192\u001b[0m \u001b[38;5;28;01mif\u001b[39;00m \u001b[38;5;129;01mnot\u001b[39;00m (\u001b[38;5;28mself\u001b[39m\u001b[38;5;241m.\u001b[39m_backward_hooks \u001b[38;5;129;01mor\u001b[39;00m \u001b[38;5;28mself\u001b[39m\u001b[38;5;241m.\u001b[39m_forward_hooks \u001b[38;5;129;01mor\u001b[39;00m \u001b[38;5;28mself\u001b[39m\u001b[38;5;241m.\u001b[39m_forward_pre_hooks \u001b[38;5;129;01mor\u001b[39;00m _global_backward_hooks\n\u001b[1;32m   1193\u001b[0m         \u001b[38;5;129;01mor\u001b[39;00m _global_forward_hooks \u001b[38;5;129;01mor\u001b[39;00m _global_forward_pre_hooks):\n\u001b[0;32m-> 1194\u001b[0m     \u001b[38;5;28;01mreturn\u001b[39;00m \u001b[43mforward_call\u001b[49m\u001b[43m(\u001b[49m\u001b[38;5;241;43m*\u001b[39;49m\u001b[38;5;28;43minput\u001b[39;49m\u001b[43m,\u001b[49m\u001b[43m \u001b[49m\u001b[38;5;241;43m*\u001b[39;49m\u001b[38;5;241;43m*\u001b[39;49m\u001b[43mkwargs\u001b[49m\u001b[43m)\u001b[49m\n\u001b[1;32m   1195\u001b[0m \u001b[38;5;66;03m# Do not call functions when jit is used\u001b[39;00m\n\u001b[1;32m   1196\u001b[0m full_backward_hooks, non_full_backward_hooks \u001b[38;5;241m=\u001b[39m [], []\n",
      "File \u001b[0;32m~/opt/miniconda3/envs/it3030/envs/mol3022/lib/python3.9/site-packages/torch/nn/modules/rnn.py:774\u001b[0m, in \u001b[0;36mLSTM.forward\u001b[0;34m(self, input, hx)\u001b[0m\n\u001b[1;32m    772\u001b[0m \u001b[38;5;28mself\u001b[39m\u001b[38;5;241m.\u001b[39mcheck_forward_args(\u001b[38;5;28minput\u001b[39m, hx, batch_sizes)\n\u001b[1;32m    773\u001b[0m \u001b[38;5;28;01mif\u001b[39;00m batch_sizes \u001b[38;5;129;01mis\u001b[39;00m \u001b[38;5;28;01mNone\u001b[39;00m:\n\u001b[0;32m--> 774\u001b[0m     result \u001b[38;5;241m=\u001b[39m \u001b[43m_VF\u001b[49m\u001b[38;5;241;43m.\u001b[39;49m\u001b[43mlstm\u001b[49m\u001b[43m(\u001b[49m\u001b[38;5;28;43minput\u001b[39;49m\u001b[43m,\u001b[49m\u001b[43m \u001b[49m\u001b[43mhx\u001b[49m\u001b[43m,\u001b[49m\u001b[43m \u001b[49m\u001b[38;5;28;43mself\u001b[39;49m\u001b[38;5;241;43m.\u001b[39;49m\u001b[43m_flat_weights\u001b[49m\u001b[43m,\u001b[49m\u001b[43m \u001b[49m\u001b[38;5;28;43mself\u001b[39;49m\u001b[38;5;241;43m.\u001b[39;49m\u001b[43mbias\u001b[49m\u001b[43m,\u001b[49m\u001b[43m \u001b[49m\u001b[38;5;28;43mself\u001b[39;49m\u001b[38;5;241;43m.\u001b[39;49m\u001b[43mnum_layers\u001b[49m\u001b[43m,\u001b[49m\n\u001b[1;32m    775\u001b[0m \u001b[43m                      \u001b[49m\u001b[38;5;28;43mself\u001b[39;49m\u001b[38;5;241;43m.\u001b[39;49m\u001b[43mdropout\u001b[49m\u001b[43m,\u001b[49m\u001b[43m \u001b[49m\u001b[38;5;28;43mself\u001b[39;49m\u001b[38;5;241;43m.\u001b[39;49m\u001b[43mtraining\u001b[49m\u001b[43m,\u001b[49m\u001b[43m \u001b[49m\u001b[38;5;28;43mself\u001b[39;49m\u001b[38;5;241;43m.\u001b[39;49m\u001b[43mbidirectional\u001b[49m\u001b[43m,\u001b[49m\u001b[43m \u001b[49m\u001b[38;5;28;43mself\u001b[39;49m\u001b[38;5;241;43m.\u001b[39;49m\u001b[43mbatch_first\u001b[49m\u001b[43m)\u001b[49m\n\u001b[1;32m    776\u001b[0m \u001b[38;5;28;01melse\u001b[39;00m:\n\u001b[1;32m    777\u001b[0m     result \u001b[38;5;241m=\u001b[39m _VF\u001b[38;5;241m.\u001b[39mlstm(\u001b[38;5;28minput\u001b[39m, batch_sizes, hx, \u001b[38;5;28mself\u001b[39m\u001b[38;5;241m.\u001b[39m_flat_weights, \u001b[38;5;28mself\u001b[39m\u001b[38;5;241m.\u001b[39mbias,\n\u001b[1;32m    778\u001b[0m                       \u001b[38;5;28mself\u001b[39m\u001b[38;5;241m.\u001b[39mnum_layers, \u001b[38;5;28mself\u001b[39m\u001b[38;5;241m.\u001b[39mdropout, \u001b[38;5;28mself\u001b[39m\u001b[38;5;241m.\u001b[39mtraining, \u001b[38;5;28mself\u001b[39m\u001b[38;5;241m.\u001b[39mbidirectional)\n",
      "\u001b[0;31mKeyboardInterrupt\u001b[0m: "
     ]
    }
   ],
   "source": [
    "for epoch in range(5):\n",
    "    running_loss = 0.0\n",
    "    model.train()\n",
    "    for i in tqdm(range(0, len(X_train), 128)):\n",
    "        inputs = torch.tensor(X_train[i:i+128]).to(device)\n",
    "        targets = torch.tensor(y_train[i:i+128]).to(device)\n",
    "\n",
    "        optimizer.zero_grad()\n",
    "        outputs = model(inputs)\n",
    "        \n",
    "        loss = loss_fn(outputs.view(-1, n_tags), targets.view(-1, n_tags))\n",
    "        loss.backward()\n",
    "        optimizer.step()\n",
    "\n",
    "        running_loss += loss.item()\n",
    "\n",
    "    # Evaluate the model on the validation data\n",
    "    model.eval()\n",
    "    with torch.no_grad():\n",
    "        y_pred = model(torch.tensor(X_test).to(device))\n",
    "        val_loss = loss_fn(y_pred.view(-1, n_tags), torch.tensor(y_test).view(-1, n_tags)).item()\n",
    "        val_acc = q3_acc(torch.tensor(y_test).to(device), y_pred)\n",
    "\n",
    "    print('Epoch: %d | Train loss: %.4f | Val loss: %.4f | Val acc: %.4f' %\n",
    "          (epoch+1, running_loss / (len(X_train) // 128), val_loss, val_acc))"
   ]
  },
  {
   "cell_type": "code",
   "execution_count": 18,
   "id": "d900e2fe",
   "metadata": {},
   "outputs": [
    {
     "data": {
      "text/plain": [
       "<All keys matched successfully>"
      ]
     },
     "execution_count": 18,
     "metadata": {},
     "output_type": "execute_result"
    }
   ],
   "source": [
    "model.load_state_dict(torch.load('model_1.torch', map_location=torch.device('cpu')))"
   ]
  },
  {
   "cell_type": "code",
   "execution_count": 19,
   "id": "7604e752",
   "metadata": {},
   "outputs": [
    {
     "name": "stdout",
     "output_type": "stream",
     "text": [
      "training\n",
      "---\n"
     ]
    },
    {
     "ename": "KeyError",
     "evalue": "364",
     "output_type": "error",
     "traceback": [
      "\u001b[0;31m---------------------------------------------------------------------------\u001b[0m",
      "\u001b[0;31mKeyError\u001b[0m                                  Traceback (most recent call last)",
      "Cell \u001b[0;32mIn[19], line 30\u001b[0m\n\u001b[1;32m     28\u001b[0m \u001b[38;5;28mprint\u001b[39m(\u001b[38;5;124m'\u001b[39m\u001b[38;5;124mtraining\u001b[39m\u001b[38;5;124m'\u001b[39m)\n\u001b[1;32m     29\u001b[0m \u001b[38;5;28;01mfor\u001b[39;00m i \u001b[38;5;129;01min\u001b[39;00m \u001b[38;5;28mrange\u001b[39m(N):\n\u001b[0;32m---> 30\u001b[0m     \u001b[43mplot_results\u001b[49m\u001b[43m(\u001b[49m\u001b[43my_train_pred\u001b[49m\u001b[43m)\u001b[49m\n",
      "Cell \u001b[0;32mIn[19], line 13\u001b[0m, in \u001b[0;36mplot_results\u001b[0;34m(y_)\u001b[0m\n\u001b[1;32m     11\u001b[0m \u001b[38;5;28;01mdef\u001b[39;00m \u001b[38;5;21mplot_results\u001b[39m( y_):\n\u001b[1;32m     12\u001b[0m     \u001b[38;5;28mprint\u001b[39m(\u001b[38;5;124m\"\u001b[39m\u001b[38;5;124m---\u001b[39m\u001b[38;5;124m\"\u001b[39m)\n\u001b[0;32m---> 13\u001b[0m     \u001b[38;5;28mprint\u001b[39m(\u001b[38;5;124m\"\u001b[39m\u001b[38;5;124mResult: \u001b[39m\u001b[38;5;124m\"\u001b[39m \u001b[38;5;241m+\u001b[39m \u001b[38;5;28mstr\u001b[39m(\u001b[43monehot_to_seq\u001b[49m\u001b[43m(\u001b[49m\u001b[43my_\u001b[49m\u001b[43m,\u001b[49m\u001b[43m \u001b[49m\u001b[43mrevsere_decoder_index\u001b[49m\u001b[43m)\u001b[49m\u001b[38;5;241m.\u001b[39mupper()))\n",
      "Cell \u001b[0;32mIn[19], line 6\u001b[0m, in \u001b[0;36monehot_to_seq\u001b[0;34m(oh_seq, index)\u001b[0m\n\u001b[1;32m      4\u001b[0m i \u001b[38;5;241m=\u001b[39m np\u001b[38;5;241m.\u001b[39margmax(o)\n\u001b[1;32m      5\u001b[0m \u001b[38;5;28;01mif\u001b[39;00m i \u001b[38;5;241m!=\u001b[39m \u001b[38;5;241m0\u001b[39m:\n\u001b[0;32m----> 6\u001b[0m     s \u001b[38;5;241m+\u001b[39m\u001b[38;5;241m=\u001b[39m \u001b[43mindex\u001b[49m\u001b[43m[\u001b[49m\u001b[43mi\u001b[49m\u001b[43m]\u001b[49m\n\u001b[1;32m      7\u001b[0m \u001b[38;5;28;01melse\u001b[39;00m:\n\u001b[1;32m      8\u001b[0m     \u001b[38;5;28;01mbreak\u001b[39;00m\n",
      "\u001b[0;31mKeyError\u001b[0m: 364"
     ]
    }
   ],
   "source": [
    "def onehot_to_seq(oh_seq, index):\n",
    "    s = ''\n",
    "    for o in oh_seq:\n",
    "        i = np.argmax(o)\n",
    "        if i != 0:\n",
    "            s += index[i]\n",
    "        else:\n",
    "            break\n",
    "    return s\n",
    "\n",
    "def plot_results( y_):\n",
    "    print(\"---\")\n",
    "    print(\"Result: \" + str(onehot_to_seq(y_, revsere_decoder_index).upper()))\n",
    "    \n",
    "\n",
    "    \n",
    "revsere_decoder_index = {value:key for key,value in tokenizer_decoder.word_index.items()}\n",
    "revsere_encoder_index = {value:key for key,value in tokenizer_encoder.word_index.items()}\n",
    "\n",
    "\n",
    "x = n_grams(input_seqs)\n",
    "tokenizer_encoder.fit_on_texts(x)\n",
    "input_data = tokenizer_encoder.texts_to_sequences(x)\n",
    "input_data = pad_sequences(input_data, maxlen=maxlen_seq, padding='post')\n",
    "\n",
    "N=3\n",
    "y_train_pred = model(torch.tensor(X_train[:N])).detach().numpy()\n",
    "print('training')\n",
    "for i in range(N):\n",
    "    plot_results(y_train_pred)\n"
   ]
  },
  {
   "cell_type": "code",
   "execution_count": 24,
   "id": "69560cad",
   "metadata": {},
   "outputs": [
    {
     "name": "stdout",
     "output_type": "stream",
     "text": [
      "training\n",
      "---\n",
      "Input: TQEAFDLISKENPSSQYWKEVAEQRRKALYEALKENEKLHKEIEQKDSEIARLRKENKDLAEVAEHVQYMAEVIERLSN\n",
      "Target: CCCCCCCCCCCCCCCCHHHHHHHHHHHHHHHHHHHHHHHHHHHHHHHHHHHHHHHHHHCCHHHHHHHHHHHHHHHCCCC\n",
      "Result: HCHCCCCHCCCCCCHHHHHHHHHHHHHHHHHHHHHHHHHHHHHHHHHHHHHHHHHHCHHHHHHHHHHHHHHHHHHCCCC\n"
     ]
    },
    {
     "data": {
      "image/png": "[encoded data removed]",
      "text/plain": [
       "<Figure size 1000x200 with 1 Axes>"
      ]
     },
     "metadata": {},
     "output_type": "display_data"
    },
    {
     "name": "stdout",
     "output_type": "stream",
     "text": [
      "---\n",
      "Input: GGTIAKVTGPSTGAVGRNIEFSGKDSKDEDGKIVSYDWDFGDGATSRGKNSVHAYKKAGTYNVTLKVTDDKGATATESFTIEIKN\n",
      "Target: CCCECCCEEECEEECCCEEEEECCCCECCCCCEEEEEEECCCCCEEECCEEEEECCCCEEEEEEEEEEECCCCEEEEEEEEEEEC\n",
      "Result: CCCECCCEEECEEEECCEEEEECECCCCCCCCEEEEEEECCCECEEECCEEEEECCCCEEEEEEEEEEECCCCEEEEEEEEEEEC\n"
     ]
    },
    {
     "data": {
      "image/png": "[encoded data removed]",
      "text/plain": [
       "<Figure size 1000x200 with 1 Axes>"
      ]
     },
     "metadata": {},
     "output_type": "display_data"
    },
    {
     "name": "stdout",
     "output_type": "stream",
     "text": [
      "---\n",
      "Input: MIQRTPKIQVYSRHPAENGKSNFLNCYVSGFHPSDIEVDLLKNGERIEKVEHSDLSFSKDWSFYLLYYTEFTPTEKDEYACRVNHVTLSQPKIVKWDRDM\n",
      "Target: CCCECCEEEEEECCCCCCCCCEEEEEEEEEEECCCCEEEEEECCEECCCCEECCCEECCCCCEEEEEEEEECCCCCCCEEEEEECCCCCCCEEEECCCCC\n",
      "Result: CCCECCEEEEEECCCCCCCCCCEEEEEEEEEECCCCEEEEEECCEECCCCEECCCEECCCCCEEEEEEEEECCCCCCCEEEEEECCCCCCCEEEECCCCC\n"
     ]
    },
    {
     "data": {
      "image/png": "[encoded data removed]",
      "text/plain": [
       "<Figure size 1000x200 with 1 Axes>"
      ]
     },
     "metadata": {},
     "output_type": "display_data"
    },
    {
     "name": "stdout",
     "output_type": "stream",
     "text": [
      "testing\n",
      "---\n",
      "Input: MEFQKKKQKVIQVKEIKFRPGTDEGDYQVKLRSLIRFLEEGDKAKITLRFRGREMAHQQIGMEVLNRVKDDLQELAVVESFPTKIEGRQMIMVLAPKKKQ\n",
      "Target: CCCCCCCCCCCEEEEEEECCCCCHHHHCHHHHHHHHHHHCCEEEEEEECCCCCCCCCCCHHHHHHHHHHHHHCCCEEECCCCCCCCCCCCEEEEEECCCC\n",
      "Result: CCCCCCCCEEEEEEEEECCCCCCCCCCHHHHHHHHHHHCHCCHCCEEHCCCCCHHHHHHHHHHHHHHHHHHHHHHHHHHCCCCECCCCHHHHCCCCCCCC\n"
     ]
    },
    {
     "data": {
      "image/png": "[encoded data removed]",
      "text/plain": [
       "<Figure size 1000x200 with 1 Axes>"
      ]
     },
     "metadata": {},
     "output_type": "display_data"
    },
    {
     "name": "stdout",
     "output_type": "stream",
     "text": [
      "---\n",
      "Input: STNPPPPETSNPNKPKRQTNQLQYLLRVVLKTLWKHQFAWPFQQPVDAVKLNLPDYYKIIKTPMDMGTIKKRLENNYYWNAQECIQDFNTMFTNCYIYNKPGDDIVLMAEALEKLFLQKINELPTE\n",
      "Target: CCCCCCCCCCCCCCCCCCCHHHHHHHHCHHHHHHCCCCCHHHCCCCCCCCCCCCCHHHHCCCCCCHHHHHHHHHCCCCCCHHHHHHHHHHHHHHHHHHCCCCCHHHHHHHHHHHHHHHHHCCCCCC\n",
      "Result: CCCCCCCCCCCCCCCCCCCHHHHHHHHCHHHHHHCCCCCHHHCCCCCCCCCCCCCHHHHCCCCCCHHHHHHHHHCCCCCCHHHHHHHHHHHHHHHHHHCCCCCHHHHHHHHHHHHHHHHHCCCCCC\n"
     ]
    },
    {
     "data": {
      "image/png": "[encoded data removed]",
      "text/plain": [
       "<Figure size 1000x200 with 1 Axes>"
      ]
     },
     "metadata": {},
     "output_type": "display_data"
    },
    {
     "name": "stdout",
     "output_type": "stream",
     "text": [
      "---\n",
      "Input: SMSVKKPKRDDSKDLALCSMILTEMETHEDAWPFLLPVNLKLVPGYKKVIKKPMDFSTIREKLSSGQYPNLETFALDVRLVFDNCETFNEDDSDIGRAGHNMRKYFEKKWTDTFK\n",
      "Target: CCCCCCCCCCCCCHHHHHHHHHHHHHHCHHHHHHCCCCCCCCCCCHHHHCCCCCCHHHHHHHHHCCCCCCHHHHHHHHHHHHHHHHHHCCCCCHHHHHHHHHHHHHHHHHHHHHC\n",
      "Result: CCCCCCCCCCCCCHHHHHHHHHHHHHCCHHHHHHCCCCCCCCCCCHHHHCCCCCCHHHHHHHHHCCCCCCHHHHHHHHHHHHHHHHHHCCCCCHHHHHHHHHHHHHHHHHHHHHC\n"
     ]
    },
    {
     "data": {
      "image/png": "[encoded data removed]",
      "text/plain": [
       "<Figure size 1000x200 with 1 Axes>"
      ]
     },
     "metadata": {},
     "output_type": "display_data"
    }
   ],
   "source": [
    "def onehot_to_seq(oh_seq, index):\n",
    "    s = ''\n",
    "    for o in oh_seq:\n",
    "        i = np.argmax(o)\n",
    "        if i != 0:\n",
    "            s += index[i]\n",
    "        else:\n",
    "            break\n",
    "    return s\n",
    "\n",
    "def plot_results(x, y, y_):\n",
    "    print(\"---\")\n",
    "    print(\"Input: \" + str(x))\n",
    "    print(\"Target: \" + str(onehot_to_seq(y, revsere_decoder_index).upper()))\n",
    "    print(\"Result: \" + str(onehot_to_seq(y_, revsere_decoder_index).upper()))\n",
    "    fig = plt.figure(figsize=(10,2))\n",
    "    plt.imshow(y.T, cmap='Blues')\n",
    "    plt.imshow(y_.T, cmap='Reds', alpha=.5)\n",
    "    plt.yticks(range(4), [' '] + [revsere_decoder_index[i+1].upper() for i in range(3)])\n",
    "    plt.show()\n",
    "    \n",
    "revsere_decoder_index = {value:key for key,value in tokenizer_decoder.word_index.items()}\n",
    "revsere_encoder_index = {value:key for key,value in tokenizer_encoder.word_index.items()}\n",
    "\n",
    "N=3\n",
    "y_train_pred = model(torch.tensor(X_train[:N])).detach().numpy()\n",
    "y_test_pred = model(torch.tensor(X_test[:N])).detach().numpy()\n",
    "print('training')\n",
    "for i in range(N):\n",
    "    plot_results(seq_train[i], y_train[i], y_train_pred[i])\n",
    "print('testing')\n",
    "for i in range(N):\n",
    "    plot_results(seq_test[i], y_test[i], y_test_pred[i])"
   ]
  },
  {
   "cell_type": "code",
   "execution_count": 19,
   "id": "7c9a821b",
   "metadata": {},
   "outputs": [],
   "source": [
    "torch.save(model.state_dict(), \"model_1.torch\")\n",
    "\n",
    "\n",
    "\n",
    "\n",
    "\n",
    "\n",
    "\n",
    "\n",
    "\n",
    "\n",
    "\n",
    "\n",
    "\n",
    "\n",
    "\n",
    "\n",
    "\n",
    "\n",
    "\n",
    "\n",
    "\n",
    "\n",
    "\n",
    "\n",
    "\n",
    "\n",
    "\n",
    "\n",
    "\n",
    "\n",
    "\n",
    "\n",
    "\n",
    "\n",
    "\n",
    "\n"
   ]
  },
  {
   "cell_type": "code",
   "execution_count": 51,
   "id": "f6e899ea",
   "metadata": {},
   "outputs": [],
   "source": [
    "import torch.nn as nn\n",
    "import torch.nn.functional as F\n",
    "from torch.nn import TransformerEncoder, TransformerEncoderLayer\n",
    "import math\n",
    "\n",
    "class Transformer(nn.Module):\n",
    "    def __init__(self, n_words, maxlen_seq, n_tags, d_model=128, nhead=2, num_layers=1, dim_feedforward=256, dropout=0.1):\n",
    "        super(Transformer, self).__init__()\n",
    "        self.embedding = nn.Embedding(n_words, d_model, padding_idx=0)\n",
    "        self.pos_encoder = PositionalEncoding(d_model, dropout)\n",
    "        encoder_layers = TransformerEncoderLayer(d_model, nhead, dim_feedforward, dropout)\n",
    "        self.transformer_encoder = TransformerEncoder(encoder_layers, num_layers)\n",
    "        #self.linear = nn.Linear(maxlen_seq * d_model, n_tags)\n",
    "        self.linear = nn.Linear(maxlen_seq, n_tags)\n",
    "\n",
    "    def forward(self, x):\n",
    "        # x shape: [batch_size, sequence_length]\n",
    "        embedded = self.embedding(x) # embedded shape: [batch_size, sequence_length, d_model]\n",
    "        embedded = self.pos_encoder(embedded) # Add positional encoding\n",
    "        embedded = embedded.permute(1, 0, 2) # Transformer expects sequence first\n",
    "        output = self.transformer_encoder(embedded) # output shape: [sequence_length, batch_size, d_model]\n",
    "        output = output.permute(1, 0, 2) # Change shape to [batch_size, sequence_length, d_model]\n",
    "        #output = output.flatten(start_dim=1) # Flatten to [batch_size, sequence_length * d_model]\n",
    "        #print(output.shape)\n",
    "        output = self.linear(output) # output shape: [batch_size, n_tags]\n",
    "        return output\n",
    "\n",
    "\n",
    "class PositionalEncoding(nn.Module):\n",
    "    def __init__(self, d_model, dropout=0.1, max_len=34886):\n",
    "        super(PositionalEncoding, self).__init__()\n",
    "        self.dropout = nn.Dropout(p=dropout)\n",
    "\n",
    "        # Compute the positional encodings in advance\n",
    "        pe = torch.zeros(max_len, d_model)\n",
    "        position = torch.arange(0, max_len, dtype=torch.float).unsqueeze(1)\n",
    "        div_term = torch.exp(torch.arange(0, d_model, 2).float() * (-math.log(10000.0) / d_model))\n",
    "        pe[:, 0::2] = torch.sin(position * div_term)\n",
    "        pe[:, 1::2] = torch.cos(position * div_term)\n",
    "        pe = pe.unsqueeze(0).transpose(0, 1)\n",
    "\n",
    "        self.register_buffer('pe', pe)\n",
    "\n",
    "    def forward(self, x):\n",
    "        x = x + self.pe[:x.size(0), :]\n",
    "        return self.dropout(x)"
   ]
  },
  {
   "cell_type": "code",
   "execution_count": null,
   "id": "180083f0",
   "metadata": {},
   "outputs": [
    {
     "data": {
      "application/vnd.jupyter.widget-view+json": {
       "model_id": "13553bd46ae445ab9d143cf40205d028",
       "version_major": 2,
       "version_minor": 0
      },
      "text/plain": [
       "  0%|          | 0/409 [00:00<?, ?it/s]"
      ]
     },
     "metadata": {},
     "output_type": "display_data"
    },
    {
     "name": "stdout",
     "output_type": "stream",
     "text": [
      "Epoch: 1 | Train loss: 1.3942 | Val loss: 1.6247 | Val acc: 0.3588\n"
     ]
    },
    {
     "data": {
      "application/vnd.jupyter.widget-view+json": {
       "model_id": "766e19cd8c324a74af3a483b3e4668ca",
       "version_major": 2,
       "version_minor": 0
      },
      "text/plain": [
       "  0%|          | 0/409 [00:00<?, ?it/s]"
      ]
     },
     "metadata": {},
     "output_type": "display_data"
    }
   ],
   "source": [
    "model_transformer = Transformer(n_words, maxlen_seq, n_tags)\n",
    "\n",
    "loss_fn_transformer = nn.CrossEntropyLoss()\n",
    "optimizer_transformer = torch.optim.RMSprop(params=model_transformer.parameters())\n",
    "\n",
    "for epoch in range(5):\n",
    "    running_loss = 0.0\n",
    "    model_transformer.train()\n",
    "    for i in tqdm(range(0, len(X_train), 128)):\n",
    "        inputs = torch.tensor(X_train[i:i+128]).to(device)\n",
    "        targets = torch.tensor(y_train[i:i+128]).to(device)\n",
    "\n",
    "        optimizer_transformer.zero_grad()\n",
    "        outputs = model_transformer(inputs)\n",
    "        #print(inputs.shape)\n",
    "        #print(outputs.view(-1, n_tags).shape, outputs.shape)\n",
    "        #print(targets.view(-1, n_tags).shape, targets.shape)\n",
    "        loss = loss_fn_transformer(outputs.view(-1, n_tags), targets.view(-1, n_tags))\n",
    "        loss.backward()\n",
    "        optimizer_transformer.step()\n",
    "\n",
    "        running_loss += loss.item()\n",
    "\n",
    "    # Evaluate the model on the validation data\n",
    "    model_transformer.eval()\n",
    "    with torch.no_grad():\n",
    "        y_pred = model_transformer(torch.tensor(X_test).to(device))\n",
    "        val_loss = loss_fn(y_pred.view(-1, n_tags), torch.tensor(y_test).view(-1, n_tags)).item()\n",
    "        val_acc = q3_acc(torch.tensor(y_test).to(device), y_pred)\n",
    "\n",
    "    print('Epoch: %d | Train loss: %.4f | Val loss: %.4f | Val acc: %.4f' %\n",
    "          (epoch+1, running_loss / (len(X_train) // 128), val_loss, val_acc))"
   ]
  },
  {
   "cell_type": "code",
   "execution_count": null,
   "id": "f2f8c161",
   "metadata": {},
   "outputs": [],
   "source": []
  }
 ],
 "metadata": {
  "kernelspec": {
   "display_name": "Python 3 (ipykernel)",
   "language": "python",
   "name": "python3"
  },
  "language_info": {
   "codemirror_mode": {
    "name": "ipython",
    "version": 3
   },
   "file_extension": ".py",
   "mimetype": "text/x-python",
   "name": "python",
   "nbconvert_exporter": "python",
   "pygments_lexer": "ipython3",
   "version": "3.9.16"
  }
 },
 "nbformat": 4,
 "nbformat_minor": 5
}
