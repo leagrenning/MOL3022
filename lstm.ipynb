{
 "cells": [
  {
   "cell_type": "code",
   "execution_count": 2,
   "id": "0a90eabc",
   "metadata": {},
   "outputs": [],
   "source": [
    "import numpy as np\n",
    "import pandas as pd\n",
    "\n",
    "import nltk\n",
    "from nltk import ngrams\n",
    "\n",
    "import torch\n",
    "from torch import nn\n",
    "from torch.nn.utils.rnn import pad_sequence\n",
    "import torchtext\n",
    "\n",
    "from keras.preprocessing import text, sequence\n",
    "from keras.preprocessing.text import Tokenizer\n",
    "from keras.utils import to_categorical, pad_sequences\n",
    "\n",
    "from sklearn.model_selection import train_test_split\n",
    "\n",
    "import matplotlib.pyplot as plt\n",
    "\n",
    "from tqdm.notebook import tqdm"
   ]
  },
  {
   "cell_type": "code",
   "execution_count": 3,
   "id": "c13be662",
   "metadata": {},
   "outputs": [],
   "source": [
    "RANDOM_SEED = 42\n",
    "device = \"cuda\" if torch.cuda.is_available() else \"cpu\""
   ]
  },
  {
   "cell_type": "code",
   "execution_count": 4,
   "id": "209d14bc",
   "metadata": {},
   "outputs": [
    {
     "data": {
      "text/plain": [
       "<Axes: >"
      ]
     },
     "execution_count": 4,
     "metadata": {},
     "output_type": "execute_result"
    },
    {
     "data": {
      "image/png": "[encoded data removed]",
      "text/plain": [
       "<Figure size 640x480 with 1 Axes>"
      ]
     },
     "metadata": {},
     "output_type": "display_data"
    }
   ],
   "source": [
    "df = pd.read_csv(\"archive/2018-06-06-ss.cleaned.csv\")\n",
    "\n",
    "df = df[df[\"seq\"].str.contains(\"[*]\") == False]\n",
    "maxlen_seq = 128\n",
    "\n",
    "df = df.loc[df[\"seq\"].str.len() < maxlen_seq]\n",
    "\n",
    "df.len.hist(bins=100)"
   ]
  },
  {
   "cell_type": "code",
   "execution_count": 5,
   "id": "247fe35a",
   "metadata": {},
   "outputs": [],
   "source": [
    "def n_grams(seqs, n=3):    \n",
    "    return np.array([[seq[i:i+n] for i in range(len(seq))] for seq in seqs], object)\n",
    "    #return [[sequence[i:i+n] for i in range(len(sequence))] for sequence in sequences]\n",
    "    #n_grams = ngrams(nltk.word_tokenize(data), num)\n",
    "    #return list(ngrams([char for char in seq], n=n) for seq in seqs)"
   ]
  },
  {
   "cell_type": "code",
   "execution_count": 6,
   "id": "ac725347",
   "metadata": {},
   "outputs": [],
   "source": [
    "input_seqs, target_seqs = df[['seq', 'sst3']][(df.len <= maxlen_seq) & (~df.has_nonstd_aa)].values.T"
   ]
  },
  {
   "cell_type": "code",
   "execution_count": 7,
   "id": "23f6a28c",
   "metadata": {},
   "outputs": [
    {
     "name": "stdout",
     "output_type": "stream",
     "text": [
      "EDL CEC\n"
     ]
    },
    {
     "data": {
      "text/plain": [
       "0"
      ]
     },
     "execution_count": 7,
     "metadata": {},
     "output_type": "execute_result"
    }
   ],
   "source": [
    "print(input_seqs[0], target_seqs[0])\n",
    "\n",
    "\n",
    "\n",
    "len(input_seqs)%3"
   ]
  },
  {
   "cell_type": "code",
   "execution_count": 8,
   "id": "d140e94a",
   "metadata": {},
   "outputs": [],
   "source": [
    "x = n_grams(input_seqs)"
   ]
  },
  {
   "cell_type": "code",
   "execution_count": 9,
   "id": "a5f51ed2",
   "metadata": {},
   "outputs": [
    {
     "data": {
      "text/plain": [
       "(87213,)"
      ]
     },
     "execution_count": 9,
     "metadata": {},
     "output_type": "execute_result"
    }
   ],
   "source": [
    "np.array(x).shape\n"
   ]
  },
  {
   "cell_type": "code",
   "execution_count": 10,
   "id": "1b352ba3",
   "metadata": {},
   "outputs": [
    {
     "data": {
      "text/plain": [
       "((87213, 128), (87213, 128, 4))"
      ]
     },
     "execution_count": 10,
     "metadata": {},
     "output_type": "execute_result"
    }
   ],
   "source": [
    "tokenizer_encoder = Tokenizer()\n",
    "tokenizer_encoder.fit_on_texts(x)\n",
    "input_data = tokenizer_encoder.texts_to_sequences(x)\n",
    "input_data = pad_sequences(input_data, maxlen=maxlen_seq, padding='post')\n",
    "\n",
    "tokenizer_decoder = Tokenizer(char_level=True)\n",
    "tokenizer_decoder.fit_on_texts(target_seqs)\n",
    "target_data = tokenizer_decoder.texts_to_sequences(target_seqs)\n",
    "target_data = pad_sequences(target_data, maxlen=maxlen_seq, padding='post')\n",
    "target_data = to_categorical(target_data)\n",
    "input_data.shape, target_data.shape"
   ]
  },
  {
   "cell_type": "code",
   "execution_count": 11,
   "id": "7dc69911",
   "metadata": {},
   "outputs": [
    {
     "name": "stdout",
     "output_type": "stream",
     "text": [
      "8421 4\n"
     ]
    }
   ],
   "source": [
    "n_words = len(tokenizer_encoder.word_index) + 1\n",
    "n_tags = len(tokenizer_decoder.word_index) + 1\n",
    "print(n_words, n_tags)"
   ]
  },
  {
   "cell_type": "code",
   "execution_count": 12,
   "id": "e6a6439e",
   "metadata": {},
   "outputs": [],
   "source": [
    "class LSTM(nn.Module):\n",
    "    def __init__(self, n_words, maxlen_seq, n_tags, hidden_size=64, dropout=0.1):\n",
    "        super(LSTM, self).__init__()\n",
    "        self.embedding = nn.Embedding(n_words, 128, padding_idx=0)\n",
    "        self.bilstm = nn.LSTM(input_size=128, hidden_size=hidden_size, num_layers=1, \n",
    "                              batch_first=True, bidirectional=True, dropout=dropout)\n",
    "        self.dense = nn.Linear(hidden_size*2, n_tags)\n",
    "        \n",
    "    def forward(self, x):\n",
    "        return self.dense(self.bilstm(self.embedding(x))[0])"
   ]
  },
  {
   "cell_type": "code",
   "execution_count": 13,
   "id": "6f11adb8",
   "metadata": {},
   "outputs": [
    {
     "name": "stderr",
     "output_type": "stream",
     "text": [
      "/Users/nicolaimolstad/opt/miniconda3/envs/it3030/envs/mol3022/lib/python3.9/site-packages/torch/nn/modules/rnn.py:67: UserWarning: dropout option adds dropout after all but last recurrent layer, so non-zero dropout expects num_layers greater than 1, but got dropout=0.1 and num_layers=1\n",
      "  warnings.warn(\"dropout option adds dropout after all but last \"\n"
     ]
    }
   ],
   "source": [
    "model = LSTM(n_words, maxlen_seq, n_tags)"
   ]
  },
  {
   "cell_type": "code",
   "execution_count": 14,
   "id": "4a081306",
   "metadata": {},
   "outputs": [],
   "source": [
    "def q3_acc(y_true, y_pred):\n",
    "    y = torch.argmax(y_true, dim=-1)\n",
    "    y_ = torch.argmax(y_pred, dim=-1)\n",
    "    mask = (y > 0)\n",
    "    return torch.mean((y[mask] == y_[mask]).float())"
   ]
  },
  {
   "cell_type": "code",
   "execution_count": 15,
   "id": "f345b092",
   "metadata": {},
   "outputs": [],
   "source": [
    "optimizer = torch.optim.RMSprop(params=model.parameters())\n",
    "loss_fn = nn.CrossEntropyLoss()"
   ]
  },
  {
   "cell_type": "code",
   "execution_count": 16,
   "id": "7907fda5",
   "metadata": {},
   "outputs": [],
   "source": [
    "X_train, X_test, y_train, y_test = train_test_split(input_data, target_data, test_size=.4, random_state=0)"
   ]
  },
  {
   "cell_type": "code",
   "execution_count": 17,
   "id": "f7b3bb21",
   "metadata": {},
   "outputs": [],
   "source": [
    "seq_train, seq_test, target_train, target_test = train_test_split(input_seqs, target_seqs, test_size=.4, random_state=0)"
   ]
  },
  {
   "cell_type": "code",
   "execution_count": 18,
   "id": "04a8e767",
   "metadata": {},
   "outputs": [
    {
     "data": {
      "application/vnd.jupyter.widget-view+json": {
       "model_id": "a612b21a9ee147549c78fbcc1ed14c46",
       "version_major": 2,
       "version_minor": 0
      },
      "text/plain": [
       "  0%|          | 0/409 [00:00<?, ?it/s]"
      ]
     },
     "metadata": {},
     "output_type": "display_data"
    },
    {
     "name": "stdout",
     "output_type": "stream",
     "text": [
      "Epoch: 1 | Train loss: 0.3197 | Val loss: 0.2518 | Val acc: 0.8468\n"
     ]
    },
    {
     "data": {
      "application/vnd.jupyter.widget-view+json": {
       "model_id": "e996935a0b7a4861b4159ef59b5d7d21",
       "version_major": 2,
       "version_minor": 0
      },
      "text/plain": [
       "  0%|          | 0/409 [00:00<?, ?it/s]"
      ]
     },
     "metadata": {},
     "output_type": "display_data"
    },
    {
     "name": "stdout",
     "output_type": "stream",
     "text": [
      "Epoch: 2 | Train loss: 0.2088 | Val loss: 0.2171 | Val acc: 0.8703\n"
     ]
    },
    {
     "data": {
      "application/vnd.jupyter.widget-view+json": {
       "model_id": "9a2aec68c85d4f39811fbc0b6baf1c7f",
       "version_major": 2,
       "version_minor": 0
      },
      "text/plain": [
       "  0%|          | 0/409 [00:00<?, ?it/s]"
      ]
     },
     "metadata": {},
     "output_type": "display_data"
    },
    {
     "name": "stdout",
     "output_type": "stream",
     "text": [
      "Epoch: 3 | Train loss: 0.1810 | Val loss: 0.2118 | Val acc: 0.8761\n"
     ]
    },
    {
     "data": {
      "application/vnd.jupyter.widget-view+json": {
       "model_id": "0ac05a93bc3c4d51a98a528c241061d2",
       "version_major": 2,
       "version_minor": 0
      },
      "text/plain": [
       "  0%|          | 0/409 [00:00<?, ?it/s]"
      ]
     },
     "metadata": {},
     "output_type": "display_data"
    },
    {
     "name": "stdout",
     "output_type": "stream",
     "text": [
      "Epoch: 4 | Train loss: 0.1668 | Val loss: 0.2098 | Val acc: 0.8789\n"
     ]
    },
    {
     "data": {
      "application/vnd.jupyter.widget-view+json": {
       "model_id": "dc5023a0566c48d6a563184db1b0e77f",
       "version_major": 2,
       "version_minor": 0
      },
      "text/plain": [
       "  0%|          | 0/409 [00:00<?, ?it/s]"
      ]
     },
     "metadata": {},
     "output_type": "display_data"
    },
    {
     "name": "stdout",
     "output_type": "stream",
     "text": [
      "Epoch: 5 | Train loss: 0.1595 | Val loss: 0.2026 | Val acc: 0.8836\n"
     ]
    }
   ],
   "source": [
    "for epoch in range(5):\n",
    "    running_loss = 0.0\n",
    "    model.train()\n",
    "    for i in tqdm(range(0, len(X_train), 128)):\n",
    "        inputs = torch.tensor(X_train[i:i+128]).to(device)\n",
    "        targets = torch.tensor(y_train[i:i+128]).to(device)\n",
    "\n",
    "        optimizer.zero_grad()\n",
    "        outputs = model(inputs)\n",
    "        loss = loss_fn(outputs.view(-1, n_tags), targets.view(-1, n_tags))\n",
    "        loss.backward()\n",
    "        optimizer.step()\n",
    "\n",
    "        running_loss += loss.item()\n",
    "\n",
    "    # Evaluate the model on the validation data\n",
    "    model.eval()\n",
    "    with torch.no_grad():\n",
    "        y_pred = model(torch.tensor(X_test).to(device))\n",
    "        val_loss = loss_fn(y_pred.view(-1, n_tags), torch.tensor(y_test).view(-1, n_tags)).item()\n",
    "        val_acc = q3_acc(torch.tensor(y_test).to(device), y_pred)\n",
    "\n",
    "    print('Epoch: %d | Train loss: %.4f | Val loss: %.4f | Val acc: %.4f' %\n",
    "          (epoch+1, running_loss / (len(X_train) // 128), val_loss, val_acc))"
   ]
  },
  {
   "cell_type": "code",
   "execution_count": 19,
   "id": "7c9a821b",
   "metadata": {},
   "outputs": [],
   "source": [
    "torch.save(model.state_dict(), \"model_1.torch\")"
   ]
  },
  {
   "cell_type": "code",
   "execution_count": null,
   "id": "f6e899ea",
   "metadata": {},
   "outputs": [],
   "source": []
  }
 ],
 "metadata": {
  "kernelspec": {
   "display_name": "Python 3 (ipykernel)",
   "language": "python",
   "name": "python3"
  },
  "language_info": {
   "codemirror_mode": {
    "name": "ipython",
    "version": 3
   },
   "file_extension": ".py",
   "mimetype": "text/x-python",
   "name": "python",
   "nbconvert_exporter": "python",
   "pygments_lexer": "ipython3",
   "version": "3.9.16"
  }
 },
 "nbformat": 4,
 "nbformat_minor": 5
}
